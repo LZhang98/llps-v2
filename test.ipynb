{
 "cells": [
  {
   "cell_type": "code",
   "execution_count": 29,
   "metadata": {},
   "outputs": [],
   "source": [
    "import torch\n",
    "from torch.utils.data import DataLoader\n",
    "from dataset import SingleFileTestDataset\n",
    "import numpy as np\n",
    "from model import Model\n",
    "from datetime import date\n",
    "from esm_pretrained import ESM\n",
    "import time\n",
    "import sys\n",
    "import os"
   ]
  },
  {
   "cell_type": "code",
   "execution_count": 30,
   "metadata": {},
   "outputs": [
    {
     "name": "stdout",
     "output_type": "stream",
     "text": [
      "/cluster/home/t116517uhn/llps-v2\n"
     ]
    }
   ],
   "source": [
    "dir_path = os.path.abspath('')\n",
    "print(dir_path)"
   ]
  },
  {
   "cell_type": "code",
   "execution_count": 31,
   "metadata": {},
   "outputs": [],
   "source": [
    "learning_rate = 1e-4\n",
    "num_layers = 1\n",
    "model_dim = 320\n",
    "num_heads = 4\n",
    "ff_dim = 320\n",
    "random_seed = 69\n",
    "batch_size = 5 # change?\n",
    "dropout = 0.3\n",
    "loss_function = torch.nn.BCELoss()\n",
    "model_name = '2023-01-04_full_e200_lr-4_dropout-0.3'\n",
    "path = dir_path + '/sample-model/'"
   ]
  },
  {
   "cell_type": "code",
   "execution_count": 32,
   "metadata": {},
   "outputs": [],
   "source": [
    "model_name = '2023-01-04_full_e200_lr-4_dropout-0.3'\n",
    "path = '/cluster/projects/kumargroup/luke/output/v2/'"
   ]
  },
  {
   "cell_type": "code",
   "execution_count": 33,
   "metadata": {},
   "outputs": [
    {
     "data": {
      "text/plain": [
       "<torch.utils.hooks.RemovableHandle at 0x7f81ed2c6748>"
      ]
     },
     "execution_count": 33,
     "metadata": {},
     "output_type": "execute_result"
    }
   ],
   "source": [
    "device = torch.device('cuda' if torch.cuda.is_available() else 'cpu')\n",
    "my_model = Model(device, 1, 320, 4, 320, 0.3)\n",
    "my_model.load_state_dict(torch.load(f'{path}{model_name}.pt', map_location=torch.device('cpu')))\n",
    "my_model.eval()\n",
    "\n",
    "activation = {}\n",
    "def get_activation(name):\n",
    "    def hook(model, input, output):\n",
    "        if name in activation:\n",
    "            curr = activation[name]\n",
    "            activation[name] += [input[0]]\n",
    "        else:\n",
    "            activation[name] = [input[0]]\n",
    "    return hook\n",
    "\n",
    "my_model.encoder.register_forward_hook(get_activation('encoder'))\n",
    "my_model.classifier.register_forward_hook(get_activation('classifier'))"
   ]
  },
  {
   "cell_type": "code",
   "execution_count": 41,
   "metadata": {},
   "outputs": [],
   "source": [
    "dataset = SingleFileTestDataset(dir_path + '/data/test_8_short_seqs.csv')"
   ]
  },
  {
   "cell_type": "code",
   "execution_count": 44,
   "metadata": {},
   "outputs": [
    {
     "name": "stdout",
     "output_type": "stream",
     "text": [
      "('MLPLSLLKTAQNHPMLVELKNGETYNGHLVSCDNWMNINLREVICTSRDGDKFWRMPECYIRGSTIKYLRIPDEIIDMVKEEVVAKGRGRGGLQQQKQQKGRGMGGAGRGVFGGRGRGGIPGTGRGQPEKKPGRQAGKQ', 1)\n",
      "('MATKAVCVLKGDGPVQGIINFEQKESNGPVKVWGSIKGLTEGLHGFHVHEFGDNTAGCTSAGPHFNPLSRKHGGPKDEERHVGDLGNVTADKDGVADVSIEDSVISLSGDHCIIGRTLVVHEKADDLGKGGNEESTKTGNAGSRLACGVIGIAQ', 1)\n",
      "('MSSEEGKLFVGGLNFNTDEQALEDHFSSFGPISEVVVVKDRETQRSRGFGFITFTNPEHASVAMRAMNGESLDGRQIRVDHAGKSARGTRGGGFGAHGRGRSYSRGGGDQGYGSGRYYDSRPGGYGYGYGRSRDYNGRNQGGYDRYSGGNYRDNYDN', 1)\n",
      "('MSDQEAKPSTEDLGDKKEGEYIKLKVIGQDSSEIHFKVKMTTHLKKLKESYCQRQGVPMNSLRFLFEGQRIADNHTPKELGMEEEDVIEVYQEQTGGHSTV', 1)\n",
      "('MSHSVKIYDTCIGCTQCVRACPTDVLEMIPWGGCKAKQIASAPRTEDCVGCKRCESACPTDFLSVRVYLWHETTRSMGLAY', 0)\n",
      "('MTMNITSKQMEITPAIRQHVADRLAKLEKWQTHLINPHIILSKEPQGFVADATINTPNGVLVASGKHEDMYTAINELINKLERQLNKLQHKGEARRAATSVKDANFVEEVEEE', 0)\n",
      "('MINMKVAISMDVDKISNSFEDCKYFLIVRIDDNEVKSTKVIFNDESGKKSIVKENVNAIICKNISEENYKKFSKKIEIYHAEGDDVDKNISLFIEGELSKISNP', 0)\n",
      "('MTHDNKLQVEAIKRGTVIDHIPAQIGFKLLSLFKLTETDQRITIGLNLPSGEMGRKDLIKIENTFLSEDQVDQLALYAPQATVNRIDNYEVVGKSRPSLPERIDNVLVCPNSNCISHAEPVSSSFAVRKRANDIALKCKYCEKEFSHNVVLAN', 0)\n"
     ]
    }
   ],
   "source": [
    "for i in range(len(dataset)):\n",
    "    print(dataset[i])"
   ]
  },
  {
   "cell_type": "code",
   "execution_count": 9,
   "metadata": {},
   "outputs": [],
   "source": [
    "data = [\n",
    "('1','MLPLSLLKTAQNHPMLVELKNGETYNGHLVSCDNWMNINLREVICTSRDGDKFWRMPECYIRGSTIKYLRIPDEIIDMVKEEVVAKGRGRGGLQQQKQQKGRGMGGAGRGVFGGRGRGGIPGTGRGQPEKKPGRQAGKQ'),\n",
    "('1','MATKAVCVLKGDGPVQGIINFEQKESNGPVKVWGSIKGLTEGLHGFHVHEFGDNTAGCTSAGPHFNPLSRKHGGPKDEERHVGDLGNVTADKDGVADVSIEDSVISLSGDHCIIGRTLVVHEKADDLGKGGNEESTKTGNAGSRLACGVIGIAQ'),\n",
    "('1','MSSEEGKLFVGGLNFNTDEQALEDHFSSFGPISEVVVVKDRETQRSRGFGFITFTNPEHASVAMRAMNGESLDGRQIRVDHAGKSARGTRGGGFGAHGRGRSYSRGGGDQGYGSGRYYDSRPGGYGYGYGRSRDYNGRNQGGYDRYSGGNYRDNYDN')\n",
    "]"
   ]
  },
  {
   "cell_type": "code",
   "execution_count": 59,
   "metadata": {},
   "outputs": [
    {
     "name": "stdout",
     "output_type": "stream",
     "text": [
      "================BATCH SIZE 1======================\n",
      "[('1', 'MLPLSLLKTAQNHPMLVELKNGETYNGHLVSCDNWMNINLREVICTSRDGDKFWRMPECYIRGSTIKYLRIPDEIIDMVKEEVVAKGRGRGGLQQQKQQKGRGMGGAGRGVFGGRGRGGIPGTGRGQPEKKPGRQAGKQ')]\n",
      "tensor([0.5461])\n",
      "torch.Size([1, 141, 320])\n"
     ]
    }
   ],
   "source": [
    "print('================BATCH SIZE 1======================')\n",
    "activation = {}\n",
    "data1 = [data[0]]\n",
    "\n",
    "print(data1)\n",
    "\n",
    "with torch.no_grad():\n",
    "    out = my_model(data1).detach().cpu()\n",
    "\n",
    "print(out)\n",
    "embeds1 = activation['encoder']\n",
    "print(embeds1[0].size())\n",
    "# print(embeds1)\n",
    "features1 = activation['classifier']\n",
    "# print(features1)\n"
   ]
  },
  {
   "cell_type": "code",
   "execution_count": 60,
   "metadata": {},
   "outputs": [
    {
     "name": "stdout",
     "output_type": "stream",
     "text": [
      "[('1', 'MLPLSLLKTAQNHPMLVELKNGETYNGHLVSCDNWMNINLREVICTSRDGDKFWRMPECYIRGSTIKYLRIPDEIIDMVKEEVVAKGRGRGGLQQQKQQKGRGMGGAGRGVFGGRGRGGIPGTGRGQPEKKPGRQAGKQ'), ('1', 'MSSEEGKLFVGGLNFNTDEQALEDHFSSFGPISEVVVVKDRETQRSRGFGFITFTNPEHASVAMRAMNGESLDGRQIRVDHAGKSARGTRGGGFGAHGRGRSYSRGGGDQGYGSGRYYDSRPGGYGYGYGRSRDYNGRNQGGYDRYSGGNYRDNYDN')]\n",
      "tensor([[0.4947],\n",
      "        [0.9913]])\n",
      "torch.Size([2, 159, 320])\n"
     ]
    }
   ],
   "source": [
    "# batch size 2\n",
    "activation = {}\n",
    "data2 = [data[0],data[2]]\n",
    "print(data2)\n",
    "with torch.no_grad():\n",
    "    out = my_model(data2).detach().cpu()\n",
    "\n",
    "print(out)\n",
    "embeds2 = activation['encoder']\n",
    "print(embeds2[0].size())\n",
    "features2 = activation['classifier']\n",
    "# print(features2[0])\n"
   ]
  },
  {
   "cell_type": "code",
   "execution_count": 62,
   "metadata": {},
   "outputs": [
    {
     "name": "stdout",
     "output_type": "stream",
     "text": [
      "[('1', 'MLPLSLLKTAQNHPMLVELKNGETYNGHLVSCDNWMNINLREVICTSRDGDKFWRMPECYIRGSTIKYLRIPDEIIDMVKEEVVAKGRGRGGLQQQKQQKGRGMGGAGRGVFGGRGRGGIPGTGRGQPEKKPGRQAGKQ'), ('1', 'MSSEEGKLFVGGLNFNTDEQALEDHFSSFGPISEVVVVKDRETQRSRGFGFITFTNPEHASVAMRAMNGESLDGRQIRVDHAGKSARGTRGGGFGAHGRGRSYSRGGGDQGYGSGRYYDSRPGGYGYGYGRSRDYNGRN')]\n",
      "tensor([[0.5461],\n",
      "        [0.9812]])\n",
      "torch.Size([2, 141, 320])\n"
     ]
    }
   ],
   "source": [
    "new_seq = ('1','MSSEEGKLFVGGLNFNTDEQALEDHFSSFGPISEVVVVKDRETQRSRGFGFITFTNPEHASVAMRAMNGESLDGRQIRVDHAGKSARGTRGGGFGAHGRGRSYSRGGGDQGYGSGRYYDSRPGGYGYGYGRSRDYNGRN')\n",
    "activation = {}\n",
    "data2 = [data[0],new_seq]\n",
    "print(data2)\n",
    "with torch.no_grad():\n",
    "    out = my_model(data2).detach().cpu()\n",
    "\n",
    "print(out)\n",
    "embeds2 = activation['encoder']\n",
    "print(embeds2[0].size())\n",
    "features2 = activation['classifier']"
   ]
  },
  {
   "cell_type": "code",
   "execution_count": 63,
   "metadata": {},
   "outputs": [
    {
     "data": {
      "text/plain": [
       "tensor(True)"
      ]
     },
     "execution_count": 63,
     "metadata": {},
     "output_type": "execute_result"
    }
   ],
   "source": [
    "torch.all(torch.eq(embeds1[0], embeds2[0][0,:,:]))"
   ]
  },
  {
   "cell_type": "code",
   "execution_count": 48,
   "metadata": {},
   "outputs": [
    {
     "name": "stdout",
     "output_type": "stream",
     "text": [
      "tensor([[ 0.2306,  0.7535,  0.1205,  ...,  1.1824, -0.1949, -0.4452],\n",
      "        [ 0.4109,  0.2706, -0.1165,  ...,  0.6309,  0.0900, -0.0671],\n",
      "        [ 0.2159, -0.2961,  0.1187,  ...,  0.3290, -0.0442,  0.3566],\n",
      "        ...,\n",
      "        [-0.0486, -0.0532,  0.0735,  ...,  0.3742, -0.4053, -0.0050],\n",
      "        [ 0.1651,  0.0862,  0.1011,  ..., -0.4449, -0.6215, -0.1898],\n",
      "        [ 0.0190,  0.0915,  0.2531,  ...,  0.4676, -0.7663, -0.1630]])\n",
      "tensor([[-0.2749,  1.5427,  0.4962,  ...,  2.0433, -1.0796,  0.0168],\n",
      "        [-0.0914,  1.0674,  0.1128,  ...,  1.5370, -0.7021,  0.4136],\n",
      "        [-0.4389,  0.1975,  0.1769,  ...,  1.2585, -0.9988,  0.9610],\n",
      "        ...,\n",
      "        [-0.5434,  0.4785,  0.2987,  ...,  1.2145, -1.3875,  0.4589],\n",
      "        [-0.4068,  0.6838,  0.2546,  ...,  0.3009, -1.6419,  0.1866],\n",
      "        [-0.6097,  1.0765,  0.8175,  ...,  1.0235, -2.0095,  0.1364]])\n",
      "tensor([5.4609e-01, 8.4666e-04, 9.8479e-01, 7.5767e-04, 3.4211e-04, 8.6509e-04,\n",
      "        9.6488e-04, 5.3742e-04])\n"
     ]
    }
   ],
   "source": [
    "activation = {}\n",
    "dataloader5 = DataLoader(dataset, batch_size=5, shuffle=False)\n",
    "\n",
    "outputs5 = torch.Tensor()\n",
    "for data in iter(dataloader5):\n",
    "    with torch.no_grad():\n",
    "        x, y = data\n",
    "        inputs = []\n",
    "        for n in range(len(x)):\n",
    "            inputs.append((y[n], x[n]))\n",
    "\n",
    "        out = my_model(inputs).squeeze().detach().cpu()\n",
    "        outputs5 = torch.cat((outputs5, out), dim=0)\n",
    "\n",
    "embeds5 = activation['encoder']\n",
    "print(embeds5[0][0,:,:])\n",
    "features5 = activation['classifier']\n",
    "print(features5[0][0,:,:])\n",
    "print(outputs5)"
   ]
  },
  {
   "cell_type": "code",
   "execution_count": 40,
   "metadata": {},
   "outputs": [
    {
     "name": "stdout",
     "output_type": "stream",
     "text": [
      "tensor([4.9472e-01, 9.0526e-04, 9.9266e-01, 1.1670e-03, 3.0970e-04, 5.2615e-04,\n",
      "        6.9786e-04, 4.8283e-04])\n",
      "tensor([[ 0.1924,  0.5990, -0.0358,  ...,  0.9546, -0.1360, -0.3861],\n",
      "        [ 0.1858,  0.0975, -0.1853,  ...,  0.3884, -0.1616, -0.1158],\n",
      "        [ 0.0609, -0.2148, -0.2203,  ...,  0.0230,  0.0243,  0.0387],\n",
      "        ...,\n",
      "        [ 0.1819, -0.3224,  0.0600,  ...,  0.1130, -0.1211, -0.0456],\n",
      "        [ 0.1992, -0.4265,  0.0680,  ...,  0.1228, -0.1319, -0.0453],\n",
      "        [ 0.1975, -0.3415,  0.1055,  ...,  0.0735, -0.1216, -0.0568]])\n",
      "tensor([[ 0.4855,  0.1922, -0.5461,  ...,  1.2570,  0.2259, -0.3514],\n",
      "        [ 0.5211, -0.3332, -0.8597,  ...,  0.8097,  0.1515, -0.2381],\n",
      "        [ 0.1744, -0.8706, -0.9513,  ...,  0.1007,  0.6794, -0.0963],\n",
      "        ...,\n",
      "        [ 0.3365, -0.7977, -0.6612,  ...,  0.1568,  0.4583, -0.2400],\n",
      "        [ 0.3428, -0.8779, -0.6439,  ...,  0.1722,  0.4450, -0.2218],\n",
      "        [ 0.3567, -0.7939, -0.5999,  ...,  0.1324,  0.4521, -0.2219]])\n"
     ]
    }
   ],
   "source": [
    "activation = {}\n",
    "dataloader8 = DataLoader(dataset, batch_size=8, shuffle=False)\n",
    "\n",
    "outputs8 = torch.Tensor()\n",
    "for data in iter(dataloader8):\n",
    "    with torch.no_grad():\n",
    "        x, y = data\n",
    "        inputs = []\n",
    "        for n in range(len(x)):\n",
    "            inputs.append((y[n], x[n]))\n",
    "\n",
    "        out = my_model(inputs).squeeze().detach().cpu()\n",
    "        outputs8 = torch.cat((outputs8, out), dim=0)\n",
    "\n",
    "embeds8 = activation['encoder']\n",
    "print(embeds8[0][0,:,:])\n",
    "features8 = activation['classifier']\n",
    "print(features8[0][0,:,:])\n",
    "print(outputs8)"
   ]
  }
 ],
 "metadata": {
  "kernelspec": {
   "display_name": "my_env",
   "language": "python",
   "name": "python3"
  },
  "language_info": {
   "codemirror_mode": {
    "name": "ipython",
    "version": 3
   },
   "file_extension": ".py",
   "mimetype": "text/x-python",
   "name": "python",
   "nbconvert_exporter": "python",
   "pygments_lexer": "ipython3",
   "version": "3.6.8"
  },
  "orig_nbformat": 4,
  "vscode": {
   "interpreter": {
    "hash": "b6a7abe3476a1380111688573138cdd1911363971b6355ebed0eb58d80c09702"
   }
  }
 },
 "nbformat": 4,
 "nbformat_minor": 2
}
