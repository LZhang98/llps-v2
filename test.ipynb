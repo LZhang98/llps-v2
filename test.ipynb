{
 "cells": [
  {
   "cell_type": "code",
   "execution_count": 1,
   "metadata": {},
   "outputs": [],
   "source": [
    "import torch\n",
    "from torch.utils.data import DataLoader\n",
    "from dataset import SingleFileTestDataset\n",
    "import numpy as np\n",
    "from model import Model\n",
    "from datetime import date\n",
    "from esm_pretrained import ESM\n",
    "import time\n",
    "import sys\n",
    "import os\n",
    "import pandas as pd\n",
    "import matplotlib.pyplot as plt"
   ]
  },
  {
   "cell_type": "code",
   "execution_count": 2,
   "metadata": {},
   "outputs": [
    {
     "name": "stdout",
     "output_type": "stream",
     "text": [
      "/cluster/home/t116517uhn/llps-v2\n"
     ]
    }
   ],
   "source": [
    "dir_path = os.path.abspath('')\n",
    "print(dir_path)"
   ]
  },
  {
   "cell_type": "code",
   "execution_count": 4,
   "metadata": {},
   "outputs": [],
   "source": [
    "training = pd.read_csv(dir_path + '/data/training_data_features.csv')\n",
    "testing = pd.read_csv(dir_path + '/data/test_set_1_pos.csv')"
   ]
  },
  {
   "cell_type": "code",
   "execution_count": 16,
   "metadata": {},
   "outputs": [],
   "source": [
    "training = training[['Category', 'Sequence_length']]\n",
    "testing['length'] = testing['sequences'].str.len()\n",
    "\n",
    "train_pos = training.loc[training['Category'] == 'LLPS+']\n",
    "train_neg = training.loc[training['Category'].isin(['LLPS-', 'PDB*'])]\n",
    "\n",
    "test_pos = testing.loc[testing['labels'] == 1]\n",
    "test_neg = testing.loc[testing['labels'] == 0]"
   ]
  },
  {
   "cell_type": "code",
   "execution_count": 18,
   "metadata": {},
   "outputs": [],
   "source": [
    "a = train_pos['Sequence_length']\n",
    "b = train_neg['Sequence_length']\n",
    "c = test_pos['length']\n",
    "d = test_neg['length']"
   ]
  },
  {
   "cell_type": "code",
   "execution_count": 20,
   "metadata": {},
   "outputs": [],
   "source": [
    "train_dict = {'POS': a, 'NEG': b}\n",
    "test_dict = {'POS': c, 'NEG': d}"
   ]
  },
  {
   "cell_type": "code",
   "execution_count": 21,
   "metadata": {},
   "outputs": [
    {
     "data": {
      "text/plain": [
       "[Text(1, 0, 'POS'), Text(2, 0, 'NEG')]"
      ]
     },
     "execution_count": 21,
     "metadata": {},
     "output_type": "execute_result"
    },
    {
     "data": {
      "image/png": "[encoded data removed]",
      "text/plain": [
       "<Figure size 432x288 with 1 Axes>"
      ]
     },
     "metadata": {
      "needs_background": "light"
     },
     "output_type": "display_data"
    }
   ],
   "source": [
    "fig, ax = plt.subplots()\n",
    "ax.boxplot(train_dict.values())\n",
    "ax.set_xticklabels(train_dict.keys())"
   ]
  },
  {
   "cell_type": "code",
   "execution_count": null,
   "metadata": {},
   "outputs": [],
   "source": [
    "fig, ax = plt.subplots()\n",
    "ax.boxplot(test_dict.values())\n",
    "ax.set_xticklabels(test_dict.keys())"
   ]
  },
  {
   "attachments": {},
   "cell_type": "markdown",
   "metadata": {},
   "source": [
    "# Visualizing Training Curve with Validation Loss"
   ]
  },
  {
   "cell_type": "code",
   "execution_count": 4,
   "metadata": {},
   "outputs": [
    {
     "data": {
      "text/html": [
       "<div>\n",
       "<style scoped>\n",
       "    .dataframe tbody tr th:only-of-type {\n",
       "        vertical-align: middle;\n",
       "    }\n",
       "\n",
       "    .dataframe tbody tr th {\n",
       "        vertical-align: top;\n",
       "    }\n",
       "\n",
       "    .dataframe thead th {\n",
       "        text-align: right;\n",
       "    }\n",
       "</style>\n",
       "<table border=\"1\" class=\"dataframe\">\n",
       "  <thead>\n",
       "    <tr style=\"text-align: right;\">\n",
       "      <th></th>\n",
       "      <th>epoch</th>\n",
       "      <th>training_loss</th>\n",
       "      <th>mean_pos</th>\n",
       "      <th>mean_neg</th>\n",
       "      <th>val_loss</th>\n",
       "    </tr>\n",
       "  </thead>\n",
       "  <tbody>\n",
       "    <tr>\n",
       "      <th>0</th>\n",
       "      <td>0</td>\n",
       "      <td>151.464800</td>\n",
       "      <td>0.492052</td>\n",
       "      <td>0.480582</td>\n",
       "      <td>35.251160</td>\n",
       "    </tr>\n",
       "    <tr>\n",
       "      <th>1</th>\n",
       "      <td>1</td>\n",
       "      <td>123.597859</td>\n",
       "      <td>0.562595</td>\n",
       "      <td>0.410745</td>\n",
       "      <td>25.437468</td>\n",
       "    </tr>\n",
       "    <tr>\n",
       "      <th>2</th>\n",
       "      <td>2</td>\n",
       "      <td>80.294969</td>\n",
       "      <td>0.693515</td>\n",
       "      <td>0.264731</td>\n",
       "      <td>16.076334</td>\n",
       "    </tr>\n",
       "    <tr>\n",
       "      <th>3</th>\n",
       "      <td>3</td>\n",
       "      <td>54.413256</td>\n",
       "      <td>0.794211</td>\n",
       "      <td>0.161878</td>\n",
       "      <td>9.225632</td>\n",
       "    </tr>\n",
       "    <tr>\n",
       "      <th>4</th>\n",
       "      <td>4</td>\n",
       "      <td>43.212161</td>\n",
       "      <td>0.855707</td>\n",
       "      <td>0.122855</td>\n",
       "      <td>7.255304</td>\n",
       "    </tr>\n",
       "    <tr>\n",
       "      <th>...</th>\n",
       "      <td>...</td>\n",
       "      <td>...</td>\n",
       "      <td>...</td>\n",
       "      <td>...</td>\n",
       "      <td>...</td>\n",
       "    </tr>\n",
       "    <tr>\n",
       "      <th>195</th>\n",
       "      <td>195</td>\n",
       "      <td>0.062583</td>\n",
       "      <td>0.999673</td>\n",
       "      <td>0.000245</td>\n",
       "      <td>5.259892</td>\n",
       "    </tr>\n",
       "    <tr>\n",
       "      <th>196</th>\n",
       "      <td>196</td>\n",
       "      <td>0.225761</td>\n",
       "      <td>0.998228</td>\n",
       "      <td>0.000291</td>\n",
       "      <td>0.361577</td>\n",
       "    </tr>\n",
       "    <tr>\n",
       "      <th>197</th>\n",
       "      <td>197</td>\n",
       "      <td>0.046820</td>\n",
       "      <td>0.999890</td>\n",
       "      <td>0.000309</td>\n",
       "      <td>0.348327</td>\n",
       "    </tr>\n",
       "    <tr>\n",
       "      <th>198</th>\n",
       "      <td>198</td>\n",
       "      <td>0.092843</td>\n",
       "      <td>0.999732</td>\n",
       "      <td>0.000561</td>\n",
       "      <td>0.435609</td>\n",
       "    </tr>\n",
       "    <tr>\n",
       "      <th>199</th>\n",
       "      <td>199</td>\n",
       "      <td>0.046101</td>\n",
       "      <td>0.999881</td>\n",
       "      <td>0.000293</td>\n",
       "      <td>0.485014</td>\n",
       "    </tr>\n",
       "  </tbody>\n",
       "</table>\n",
       "<p>200 rows × 5 columns</p>\n",
       "</div>"
      ],
      "text/plain": [
       "     epoch  training_loss  mean_pos  mean_neg   val_loss\n",
       "0        0     151.464800  0.492052  0.480582  35.251160\n",
       "1        1     123.597859  0.562595  0.410745  25.437468\n",
       "2        2      80.294969  0.693515  0.264731  16.076334\n",
       "3        3      54.413256  0.794211  0.161878   9.225632\n",
       "4        4      43.212161  0.855707  0.122855   7.255304\n",
       "..     ...            ...       ...       ...        ...\n",
       "195    195       0.062583  0.999673  0.000245   5.259892\n",
       "196    196       0.225761  0.998228  0.000291   0.361577\n",
       "197    197       0.046820  0.999890  0.000309   0.348327\n",
       "198    198       0.092843  0.999732  0.000561   0.435609\n",
       "199    199       0.046101  0.999881  0.000293   0.485014\n",
       "\n",
       "[200 rows x 5 columns]"
      ]
     },
     "execution_count": 4,
     "metadata": {},
     "output_type": "execute_result"
    }
   ],
   "source": [
    "data = pd.read_csv(dir_path+'/logs/2023-02-21_e200_bs4_log.csv')\n",
    "data"
   ]
  },
  {
   "cell_type": "code",
   "execution_count": 5,
   "metadata": {},
   "outputs": [
    {
     "data": {
      "image/png": "[encoded data removed]",
      "text/plain": [
       "<Figure size 432x288 with 1 Axes>"
      ]
     },
     "metadata": {
      "needs_background": "light"
     },
     "output_type": "display_data"
    }
   ],
   "source": [
    "x = data['epoch']\n",
    "y1 = data['training_loss']\n",
    "y1 = y1/len(y1)\n",
    "y2 = data['val_loss']\n",
    "y2 = y2/len(y2)\n",
    "\n",
    "plt.plot(x, y1, x, y2)\n",
    "plt.show()"
   ]
  },
  {
   "cell_type": "code",
   "execution_count": 6,
   "metadata": {},
   "outputs": [
    {
     "data": {
      "image/png": "[encoded data removed]",
      "text/plain": [
       "<Figure size 432x288 with 1 Axes>"
      ]
     },
     "metadata": {
      "needs_background": "light"
     },
     "output_type": "display_data"
    }
   ],
   "source": [
    "data = pd.read_csv(dir_path+'/logs/2023-02-16_e400_bs4_log.csv')\n",
    "x = data['epoch']\n",
    "y1 = data['training_loss']\n",
    "y2 = data['val_loss']\n",
    "\n",
    "plt.plot(x[:100], y1[:100], x[:100], y2[:100])\n",
    "plt.show()"
   ]
  }
 ],
 "metadata": {
  "kernelspec": {
   "display_name": "my_env",
   "language": "python",
   "name": "python3"
  },
  "language_info": {
   "codemirror_mode": {
    "name": "ipython",
    "version": 3
   },
   "file_extension": ".py",
   "mimetype": "text/x-python",
   "name": "python",
   "nbconvert_exporter": "python",
   "pygments_lexer": "ipython3",
   "version": "3.6.8"
  },
  "orig_nbformat": 4,
  "vscode": {
   "interpreter": {
    "hash": "b6a7abe3476a1380111688573138cdd1911363971b6355ebed0eb58d80c09702"
   }
  }
 },
 "nbformat": 4,
 "nbformat_minor": 2
}
