{
 "cells": [
  {
   "cell_type": "code",
   "execution_count": 19,
   "metadata": {},
   "outputs": [],
   "source": [
    "import torch\n",
    "from torch.utils.data import DataLoader\n",
    "from dataset import SingleFileTestDataset\n",
    "import numpy as np\n",
    "from model import Model\n",
    "from datetime import date\n",
    "from esm_pretrained import ESM\n",
    "import time\n",
    "import sys\n",
    "import os\n",
    "import pandas as pd\n",
    "import matplotlib.pyplot as plt"
   ]
  },
  {
   "cell_type": "code",
   "execution_count": 2,
   "metadata": {},
   "outputs": [
    {
     "name": "stdout",
     "output_type": "stream",
     "text": [
      "/home/lukezhang/uhn_research/llps-v2\n"
     ]
    }
   ],
   "source": [
    "dir_path = os.path.abspath('')\n",
    "print(dir_path)"
   ]
  },
  {
   "cell_type": "code",
   "execution_count": 4,
   "metadata": {},
   "outputs": [],
   "source": [
    "training = pd.read_csv(dir_path + '/data/training_data_features.csv')\n",
    "testing = pd.read_csv(dir_path + '/data/test_set_1_pos.csv')"
   ]
  },
  {
   "cell_type": "code",
   "execution_count": 16,
   "metadata": {},
   "outputs": [],
   "source": [
    "training = training[['Category', 'Sequence_length']]\n",
    "testing['length'] = testing['sequences'].str.len()\n",
    "\n",
    "train_pos = training.loc[training['Category'] == 'LLPS+']\n",
    "train_neg = training.loc[training['Category'].isin(['LLPS-', 'PDB*'])]\n",
    "\n",
    "test_pos = testing.loc[testing['labels'] == 1]\n",
    "test_neg = testing.loc[testing['labels'] == 0]"
   ]
  },
  {
   "cell_type": "code",
   "execution_count": 18,
   "metadata": {},
   "outputs": [],
   "source": [
    "a = train_pos['Sequence_length']\n",
    "b = train_neg['Sequence_length']\n",
    "c = test_pos['length']\n",
    "d = test_neg['length']"
   ]
  },
  {
   "cell_type": "code",
   "execution_count": 20,
   "metadata": {},
   "outputs": [],
   "source": [
    "train_dict = {'POS': a, 'NEG': b}\n",
    "test_dict = {'POS': c, 'NEG': d}"
   ]
  },
  {
   "cell_type": "code",
   "execution_count": 21,
   "metadata": {},
   "outputs": [
    {
     "data": {
      "text/plain": [
       "[Text(1, 0, 'POS'), Text(2, 0, 'NEG')]"
      ]
     },
     "execution_count": 21,
     "metadata": {},
     "output_type": "execute_result"
    },
    {
     "data": {
      "image/png": "[encoded data removed]",
      "text/plain": [
       "<Figure size 432x288 with 1 Axes>"
      ]
     },
     "metadata": {
      "needs_background": "light"
     },
     "output_type": "display_data"
    }
   ],
   "source": [
    "fig, ax = plt.subplots()\n",
    "ax.boxplot(train_dict.values())\n",
    "ax.set_xticklabels(train_dict.keys())"
   ]
  },
  {
   "cell_type": "code",
   "execution_count": null,
   "metadata": {},
   "outputs": [],
   "source": [
    "fig, ax = plt.subplots()\n",
    "ax.boxplot(test_dict.values())\n",
    "ax.set_xticklabels(test_dict.keys())"
   ]
  }
 ],
 "metadata": {
  "kernelspec": {
   "display_name": "my-torch",
   "language": "python",
   "name": "python3"
  },
  "language_info": {
   "codemirror_mode": {
    "name": "ipython",
    "version": 3
   },
   "file_extension": ".py",
   "mimetype": "text/x-python",
   "name": "python",
   "nbconvert_exporter": "python",
   "pygments_lexer": "ipython3",
   "version": "3.10.4"
  },
  "orig_nbformat": 4,
  "vscode": {
   "interpreter": {
    "hash": "21c1738ea0a2db5093144c4157291782af9d07469040012ae0bd0cd64f31515a"
   }
  }
 },
 "nbformat": 4,
 "nbformat_minor": 2
}
