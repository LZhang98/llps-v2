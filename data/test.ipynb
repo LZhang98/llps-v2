{
 "cells": [
  {
   "cell_type": "code",
   "execution_count": 4,
   "metadata": {},
   "outputs": [
    {
     "name": "stdout",
     "output_type": "stream",
     "text": [
      "/cluster/home/t116517uhn/llps-v2/data\n"
     ]
    }
   ],
   "source": [
    "import pandas as pd\n",
    "import os\n",
    "\n",
    "dir_path = os.path.abspath('')\n",
    "print(dir_path)"
   ]
  },
  {
   "cell_type": "code",
   "execution_count": 6,
   "metadata": {},
   "outputs": [
    {
     "name": "stdout",
     "output_type": "stream",
     "text": [
      "     Unnamed: 0                                          sequences  labels\n",
      "0             0  MSDSGSYGQSGGEQQSYSTYGNPGSQGYGQASQSYSGYGQTTDSSY...       1\n",
      "1             1  MSDQDHSMDEMTAVVKIEKGVGGNNGGNGNGGGAFSQARSSSTGSS...       1\n",
      "2             2  MEERRPHLDARPRNSHTNHRGPVDGELPPRARNQANNPPANALRGG...       1\n",
      "3             3  MPSSLFADLERNGSGGGGGGSSGGGETLDDQRALQLALDQLSLLGL...       1\n",
      "4             4  MALSLEEEAGRIKDCWDNQEAPALSTCSNANIFRRINAILDNSLDF...       1\n",
      "..          ...                                                ...     ...\n",
      "315         156  MIFAVRTMVGQEKNIAGLMASRAEKEQLDVYSILASESLKGYVLVE...       0\n",
      "316         157  MRFNHFSIVDKNFDEQLAELDQLGFRWSVFWDEKKILKDFLIQSPS...       0\n",
      "317         158  MPALLKRLLFQVGPHPNERTFTLSSVSTDGHYISLRPFVKPSGDEL...       0\n",
      "318         159  MADEKPKEGVKTENNDHINLKVAGQDGSVVQFKIKRHTPLSKLMKA...       0\n",
      "319         160  MEPAAGSSMEPSADWLATAAARGRVEEVRALLEAGALPNAPNSYGR...       0\n",
      "\n",
      "[320 rows x 3 columns]\n"
     ]
    }
   ],
   "source": [
    "df = pd.read_csv(dir_path + '/test_set_1_pos.csv')\n",
    "print(df)"
   ]
  },
  {
   "cell_type": "code",
   "execution_count": 7,
   "metadata": {},
   "outputs": [
    {
     "data": {
      "text/plain": [
       "Index(['Unnamed: 0', 'sequences', 'labels'], dtype='object')"
      ]
     },
     "execution_count": 7,
     "metadata": {},
     "output_type": "execute_result"
    }
   ],
   "source": [
    "df.columns"
   ]
  },
  {
   "cell_type": "code",
   "execution_count": 12,
   "metadata": {},
   "outputs": [
    {
     "data": {
      "text/html": [
       "<div>\n",
       "<style scoped>\n",
       "    .dataframe tbody tr th:only-of-type {\n",
       "        vertical-align: middle;\n",
       "    }\n",
       "\n",
       "    .dataframe tbody tr th {\n",
       "        vertical-align: top;\n",
       "    }\n",
       "\n",
       "    .dataframe thead th {\n",
       "        text-align: right;\n",
       "    }\n",
       "</style>\n",
       "<table border=\"1\" class=\"dataframe\">\n",
       "  <thead>\n",
       "    <tr style=\"text-align: right;\">\n",
       "      <th></th>\n",
       "      <th>sequences</th>\n",
       "      <th>labels</th>\n",
       "    </tr>\n",
       "  </thead>\n",
       "  <tbody>\n",
       "    <tr>\n",
       "      <th>0</th>\n",
       "      <td>MSDSGSYGQSGGEQQSYSTYGNPGSQGYGQASQSYSGYGQTTDSSY...</td>\n",
       "      <td>1</td>\n",
       "    </tr>\n",
       "    <tr>\n",
       "      <th>1</th>\n",
       "      <td>MSDQDHSMDEMTAVVKIEKGVGGNNGGNGNGGGAFSQARSSSTGSS...</td>\n",
       "      <td>1</td>\n",
       "    </tr>\n",
       "    <tr>\n",
       "      <th>2</th>\n",
       "      <td>MEERRPHLDARPRNSHTNHRGPVDGELPPRARNQANNPPANALRGG...</td>\n",
       "      <td>1</td>\n",
       "    </tr>\n",
       "    <tr>\n",
       "      <th>3</th>\n",
       "      <td>MPSSLFADLERNGSGGGGGGSSGGGETLDDQRALQLALDQLSLLGL...</td>\n",
       "      <td>1</td>\n",
       "    </tr>\n",
       "    <tr>\n",
       "      <th>4</th>\n",
       "      <td>MALSLEEEAGRIKDCWDNQEAPALSTCSNANIFRRINAILDNSLDF...</td>\n",
       "      <td>1</td>\n",
       "    </tr>\n",
       "    <tr>\n",
       "      <th>...</th>\n",
       "      <td>...</td>\n",
       "      <td>...</td>\n",
       "    </tr>\n",
       "    <tr>\n",
       "      <th>315</th>\n",
       "      <td>MIFAVRTMVGQEKNIAGLMASRAEKEQLDVYSILASESLKGYVLVE...</td>\n",
       "      <td>0</td>\n",
       "    </tr>\n",
       "    <tr>\n",
       "      <th>316</th>\n",
       "      <td>MRFNHFSIVDKNFDEQLAELDQLGFRWSVFWDEKKILKDFLIQSPS...</td>\n",
       "      <td>0</td>\n",
       "    </tr>\n",
       "    <tr>\n",
       "      <th>317</th>\n",
       "      <td>MPALLKRLLFQVGPHPNERTFTLSSVSTDGHYISLRPFVKPSGDEL...</td>\n",
       "      <td>0</td>\n",
       "    </tr>\n",
       "    <tr>\n",
       "      <th>318</th>\n",
       "      <td>MADEKPKEGVKTENNDHINLKVAGQDGSVVQFKIKRHTPLSKLMKA...</td>\n",
       "      <td>0</td>\n",
       "    </tr>\n",
       "    <tr>\n",
       "      <th>319</th>\n",
       "      <td>MEPAAGSSMEPSADWLATAAARGRVEEVRALLEAGALPNAPNSYGR...</td>\n",
       "      <td>0</td>\n",
       "    </tr>\n",
       "  </tbody>\n",
       "</table>\n",
       "<p>320 rows × 2 columns</p>\n",
       "</div>"
      ],
      "text/plain": [
       "                                             sequences  labels\n",
       "0    MSDSGSYGQSGGEQQSYSTYGNPGSQGYGQASQSYSGYGQTTDSSY...       1\n",
       "1    MSDQDHSMDEMTAVVKIEKGVGGNNGGNGNGGGAFSQARSSSTGSS...       1\n",
       "2    MEERRPHLDARPRNSHTNHRGPVDGELPPRARNQANNPPANALRGG...       1\n",
       "3    MPSSLFADLERNGSGGGGGGSSGGGETLDDQRALQLALDQLSLLGL...       1\n",
       "4    MALSLEEEAGRIKDCWDNQEAPALSTCSNANIFRRINAILDNSLDF...       1\n",
       "..                                                 ...     ...\n",
       "315  MIFAVRTMVGQEKNIAGLMASRAEKEQLDVYSILASESLKGYVLVE...       0\n",
       "316  MRFNHFSIVDKNFDEQLAELDQLGFRWSVFWDEKKILKDFLIQSPS...       0\n",
       "317  MPALLKRLLFQVGPHPNERTFTLSSVSTDGHYISLRPFVKPSGDEL...       0\n",
       "318  MADEKPKEGVKTENNDHINLKVAGQDGSVVQFKIKRHTPLSKLMKA...       0\n",
       "319  MEPAAGSSMEPSADWLATAAARGRVEEVRALLEAGALPNAPNSYGR...       0\n",
       "\n",
       "[320 rows x 2 columns]"
      ]
     },
     "execution_count": 12,
     "metadata": {},
     "output_type": "execute_result"
    }
   ],
   "source": [
    "df"
   ]
  },
  {
   "cell_type": "code",
   "execution_count": null,
   "metadata": {},
   "outputs": [],
   "source": [
    "df.to_csv(dir_path + '/test_set_1_pos.csv',index=False)"
   ]
  }
 ],
 "metadata": {
  "kernelspec": {
   "display_name": "my_env",
   "language": "python",
   "name": "python3"
  },
  "language_info": {
   "codemirror_mode": {
    "name": "ipython",
    "version": 3
   },
   "file_extension": ".py",
   "mimetype": "text/x-python",
   "name": "python",
   "nbconvert_exporter": "python",
   "pygments_lexer": "ipython3",
   "version": "3.6.8"
  },
  "orig_nbformat": 4,
  "vscode": {
   "interpreter": {
    "hash": "b6a7abe3476a1380111688573138cdd1911363971b6355ebed0eb58d80c09702"
   }
  }
 },
 "nbformat": 4,
 "nbformat_minor": 2
}
